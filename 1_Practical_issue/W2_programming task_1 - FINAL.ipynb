{
 "cells": [
  {
   "cell_type": "markdown",
   "metadata": {},
   "source": [
    "## Линейная алгебра: сходство текстов и аппроксимация функций"
   ]
  },
  {
   "cell_type": "markdown",
   "metadata": {},
   "source": [
    "#### Output knowledge:\n",
    "1. читать тексты из файла с помощью Python и разбивать их на слова\n",
    "2. переводить тексты в векторные пространства, вычислять расстояния в этих пространствах\n",
    "3. решать системы линейных уравнений\n",
    "4. приближать любые функции с помощью многочленов"
   ]
  },
  {
   "cell_type": "markdown",
   "metadata": {},
   "source": [
    "\n",
    "### EG1 - Сравнение предложений\n",
    "\n",
    "Дан набор предложений, скопированных с Википедии. Каждое из них имеет \"кошачью тему\" в одном из трех смыслов:\n",
    "- кошки (животные)\n",
    "- UNIX-утилита cat для вывода содержимого файлов\n",
    "- версии операционной системы OS X, названные в честь семейства кошачьих\n",
    "\n",
    "Задача — найти два предложения, которые ближе всего по смыслу к расположенному в самой первой строке. В качестве меры близости по смыслу мы будем использовать косинусное расстояние.\n",
    "\n",
    "##### Instruction - выполните следующие шаги:\n",
    "\n",
    "1. Скачайте файл с предложениями (sentences.txt).\n",
    "2. Каждая строка в файле соответствует одному предложению. Считайте их, приведите каждую к нижнему регистру с помощью строковой функции lower().\n",
    "3. Произведите токенизацию, то есть разбиение текстов на слова. Для этого можно воспользоваться регулярным выражением, которое считает разделителем любой символ, не являющийся буквой: re.split('[^a-z]', t). Не забудьте удалить пустые слова после разделения.\n",
    "4. Составьте список всех слов, встречающихся в предложениях. Сопоставьте каждому слову индекс от нуля до (d - 1), где d — число различных слов в предложениях. Для этого удобно воспользоваться структурой dict.\n",
    "5. Создайте матрицу размера n * d, где n — число предложений. Заполните ее: элемент с индексом (i, j) в этой матрице должен быть равен количеству вхождений j-го слова в i-е предложение. У вас должна получиться матрица размера 22 * 254.\n",
    "6. Найдите косинусное расстояние от предложения в самой первой строке (In comparison to dogs, cats have not undergone...) до всех остальных с помощью функции scipy.spatial.distance.cosine. Какие номера у двух предложений, ближайших к нему по этому расстоянию (строки нумеруются с нуля)? Эти два числа и будут ответами на задание.\n",
    "7. Запишите полученные числа в файл, разделив пробелом. Обратите внимание, что файл должен состоять из одной строки, в конце которой не должно быть переноса. Пример файла с решением вы можете найти в конце задания (submission-1.txt).\n",
    "8. Совпадают ли ближайшие два предложения по тематике с первым? Совпадают ли тематики у следующих по близости предложений?"
   ]
  },
  {
   "cell_type": "markdown",
   "metadata": {},
   "source": [
    "### EG1 - Answer"
   ]
  },
  {
   "cell_type": "code",
   "execution_count": 1,
   "metadata": {
    "collapsed": false
   },
   "outputs": [],
   "source": [
    "f = open('sentences.txt', 'r')"
   ]
  },
  {
   "cell_type": "code",
   "execution_count": 2,
   "metadata": {
    "collapsed": false
   },
   "outputs": [],
   "source": [
    "f_data_list = list(f)"
   ]
  },
  {
   "cell_type": "code",
   "execution_count": 3,
   "metadata": {
    "collapsed": false
   },
   "outputs": [
    {
     "data": {
      "text/plain": [
       "['In comparison to dogs, cats have not undergone major changes during the domestication process.\\n',\n",
       " 'As cat simply catenates streams of bytes, it can be also used to concatenate binary files, where it will just concatenate sequence of bytes.\\n',\n",
       " 'A common interactive use of cat for a single file is to output the content of a file to standard output.\\n',\n",
       " 'Cats can hear sounds too faint or too high in frequency for human ears, such as those made by mice and other small animals.\\n',\n",
       " 'In one, people deliberately tamed cats in a process of artificial selection, as they were useful predators of vermin.\\n',\n",
       " 'The domesticated cat and its closest wild ancestor are both diploid organisms that possess 38 chromosomes and roughly 20,000 genes.\\n',\n",
       " 'Domestic cats are similar in size to the other members of the genus Felis, typically weighing between 4 and 5 kg (8.8 and 11.0 lb).\\n',\n",
       " 'However, if the output is piped or redirected, cat is unnecessary.\\n',\n",
       " 'cat with one named file is safer where human error is a concern - one wrong use of the default redirection symbol \">\" instead of \"<\" (often adjacent on keyboards) may permanently delete the file you were just needing to read.\\n',\n",
       " 'In terms of legibility, a sequence of commands starting with cat and connected by pipes has a clear left-to-right flow of information.\\n',\n",
       " 'Cat command is one of the basic commands that you learned when you started in the Unix / Linux world.\\n',\n",
       " 'Using cat command, the lines received from stdin can be redirected to a new file using redirection symbols.\\n',\n",
       " 'When you type simply cat command without any arguments, it just receives the stdin content and displays it in the stdout.\\n',\n",
       " 'Leopard was released on October 26, 2007 as the successor of Tiger (version 10.4), and is available in two editions.\\n',\n",
       " 'According to Apple, Leopard contains over 300 changes and enhancements over its predecessor, Mac OS X Tiger.\\n',\n",
       " 'As of Mid 2010, some Apple computers have firmware factory installed which will no longer allow installation of Mac OS X Leopard.\\n',\n",
       " 'Since Apple moved to using Intel processors in their computers, the OSx86 community has developed and now also allows Mac OS X Tiger and later releases to be installed on non-Apple x86-based computers.\\n',\n",
       " \"OS X Mountain Lion was released on July 25, 2012 for purchase and download through Apple's Mac App Store, as part of a switch to releasing OS X versions online and every year.\\n\",\n",
       " 'Apple has released a small patch for the three most recent versions of Safari running on OS X Yosemite, Mavericks, and Mountain Lion.\\n',\n",
       " 'The Mountain Lion release marks the second time Apple has offered an incremental upgrade, rather than releasing a new cat entirely.\\n',\n",
       " \"Mac OS X Mountain Lion installs in place, so you won't need to create a separate disk or run the installation off an external drive.\\n\",\n",
       " \"The fifth major update to Mac OS X, Leopard, contains such a mountain of features - more than 300 by Apple's count.\\n\"]"
      ]
     },
     "execution_count": 3,
     "metadata": {},
     "output_type": "execute_result"
    }
   ],
   "source": [
    "## check\n",
    "#f_data_list"
   ]
  },
  {
   "cell_type": "code",
   "execution_count": 4,
   "metadata": {
    "collapsed": false
   },
   "outputs": [
    {
     "data": {
      "text/plain": [
       "'As cat simply catenates streams of bytes, it can be also used to concatenate binary files, where it will just concatenate sequence of bytes.\\n'"
      ]
     },
     "execution_count": 4,
     "metadata": {},
     "output_type": "execute_result"
    }
   ],
   "source": [
    "## check\n",
    "#f_data_list[1]"
   ]
  },
  {
   "cell_type": "markdown",
   "metadata": {},
   "source": [
    "---"
   ]
  },
  {
   "cell_type": "code",
   "execution_count": 5,
   "metadata": {
    "collapsed": false
   },
   "outputs": [],
   "source": [
    "f_data_str_raw = str(f_data_list)"
   ]
  },
  {
   "cell_type": "code",
   "execution_count": 6,
   "metadata": {
    "collapsed": false
   },
   "outputs": [
    {
     "name": "stdout",
     "output_type": "stream",
     "text": [
      "['In comparison to dogs, cats have not undergone major changes during the domestication process.\\n', 'As cat simply catenates streams of bytes, it can be also used to concatenate binary files, where it will just concatenate sequence of bytes.\\n', 'A common interactive use of cat for a single file is to output the content of a file to standard output.\\n', 'Cats can hear sounds too faint or too high in frequency for human ears, such as those made by mice and other small animals.\\n', 'In one, people deliberately tamed cats in a process of artificial selection, as they were useful predators of vermin.\\n', 'The domesticated cat and its closest wild ancestor are both diploid organisms that possess 38 chromosomes and roughly 20,000 genes.\\n', 'Domestic cats are similar in size to the other members of the genus Felis, typically weighing between 4 and 5 kg (8.8 and 11.0 lb).\\n', 'However, if the output is piped or redirected, cat is unnecessary.\\n', 'cat with one named file is safer where human error is a concern - one wrong use of the default redirection symbol \">\" instead of \"<\" (often adjacent on keyboards) may permanently delete the file you were just needing to read.\\n', 'In terms of legibility, a sequence of commands starting with cat and connected by pipes has a clear left-to-right flow of information.\\n', 'Cat command is one of the basic commands that you learned when you started in the Unix / Linux world.\\n', 'Using cat command, the lines received from stdin can be redirected to a new file using redirection symbols.\\n', 'When you type simply cat command without any arguments, it just receives the stdin content and displays it in the stdout.\\n', 'Leopard was released on October 26, 2007 as the successor of Tiger (version 10.4), and is available in two editions.\\n', 'According to Apple, Leopard contains over 300 changes and enhancements over its predecessor, Mac OS X Tiger.\\n', 'As of Mid 2010, some Apple computers have firmware factory installed which will no longer allow installation of Mac OS X Leopard.\\n', 'Since Apple moved to using Intel processors in their computers, the OSx86 community has developed and now also allows Mac OS X Tiger and later releases to be installed on non-Apple x86-based computers.\\n', \"OS X Mountain Lion was released on July 25, 2012 for purchase and download through Apple's Mac App Store, as part of a switch to releasing OS X versions online and every year.\\n\", 'Apple has released a small patch for the three most recent versions of Safari running on OS X Yosemite, Mavericks, and Mountain Lion.\\n', 'The Mountain Lion release marks the second time Apple has offered an incremental upgrade, rather than releasing a new cat entirely.\\n', \"Mac OS X Mountain Lion installs in place, so you won't need to create a separate disk or run the installation off an external drive.\\n\", \"The fifth major update to Mac OS X, Leopard, contains such a mountain of features - more than 300 by Apple's count.\\n\"] \n",
      "\n",
      "<type 'str'>\n"
     ]
    }
   ],
   "source": [
    "## check\n",
    "#print f_data_str_raw, '\\n'*2, type (f_data_str_raw)"
   ]
  },
  {
   "cell_type": "code",
   "execution_count": 7,
   "metadata": {
    "collapsed": false
   },
   "outputs": [],
   "source": [
    "f_data_str = f_data_str_raw.lower()"
   ]
  },
  {
   "cell_type": "code",
   "execution_count": null,
   "metadata": {
    "collapsed": true
   },
   "outputs": [],
   "source": [
    "# f_data_str = f_data_str.strip()"
   ]
  },
  {
   "cell_type": "code",
   "execution_count": 8,
   "metadata": {
    "collapsed": false
   },
   "outputs": [
    {
     "name": "stdout",
     "output_type": "stream",
     "text": [
      "['in comparison to dogs, cats have not undergone major changes during the domestication process.\\n', 'as cat simply catenates streams of bytes, it can be also used to concatenate binary files, where it will just concatenate sequence of bytes.\\n', 'a common interactive use of cat for a single file is to output the content of a file to standard output.\\n', 'cats can hear sounds too faint or too high in frequency for human ears, such as those made by mice and other small animals.\\n', 'in one, people deliberately tamed cats in a process of artificial selection, as they were useful predators of vermin.\\n', 'the domesticated cat and its closest wild ancestor are both diploid organisms that possess 38 chromosomes and roughly 20,000 genes.\\n', 'domestic cats are similar in size to the other members of the genus felis, typically weighing between 4 and 5 kg (8.8 and 11.0 lb).\\n', 'however, if the output is piped or redirected, cat is unnecessary.\\n', 'cat with one named file is safer where human error is a concern - one wrong use of the default redirection symbol \">\" instead of \"<\" (often adjacent on keyboards) may permanently delete the file you were just needing to read.\\n', 'in terms of legibility, a sequence of commands starting with cat and connected by pipes has a clear left-to-right flow of information.\\n', 'cat command is one of the basic commands that you learned when you started in the unix / linux world.\\n', 'using cat command, the lines received from stdin can be redirected to a new file using redirection symbols.\\n', 'when you type simply cat command without any arguments, it just receives the stdin content and displays it in the stdout.\\n', 'leopard was released on october 26, 2007 as the successor of tiger (version 10.4), and is available in two editions.\\n', 'according to apple, leopard contains over 300 changes and enhancements over its predecessor, mac os x tiger.\\n', 'as of mid 2010, some apple computers have firmware factory installed which will no longer allow installation of mac os x leopard.\\n', 'since apple moved to using intel processors in their computers, the osx86 community has developed and now also allows mac os x tiger and later releases to be installed on non-apple x86-based computers.\\n', \"os x mountain lion was released on july 25, 2012 for purchase and download through apple's mac app store, as part of a switch to releasing os x versions online and every year.\\n\", 'apple has released a small patch for the three most recent versions of safari running on os x yosemite, mavericks, and mountain lion.\\n', 'the mountain lion release marks the second time apple has offered an incremental upgrade, rather than releasing a new cat entirely.\\n', \"mac os x mountain lion installs in place, so you won't need to create a separate disk or run the installation off an external drive.\\n\", \"the fifth major update to mac os x, leopard, contains such a mountain of features - more than 300 by apple's count.\\n\"] \n",
      "\n",
      "<type 'str'>\n"
     ]
    }
   ],
   "source": [
    "## check\n",
    "#print f_data_str, '\\n'*2, type(f_data_str)"
   ]
  },
  {
   "cell_type": "markdown",
   "metadata": {},
   "source": [
    "---"
   ]
  },
  {
   "cell_type": "code",
   "execution_count": 9,
   "metadata": {
    "collapsed": true
   },
   "outputs": [],
   "source": [
    "f_data_list_org = list()"
   ]
  },
  {
   "cell_type": "code",
   "execution_count": 10,
   "metadata": {
    "collapsed": true
   },
   "outputs": [],
   "source": [
    "for i in f_data_list:\n",
    "    f_data_list_org.append([i])"
   ]
  },
  {
   "cell_type": "code",
   "execution_count": 11,
   "metadata": {
    "collapsed": false
   },
   "outputs": [
    {
     "name": "stdout",
     "output_type": "stream",
     "text": [
      "[['In comparison to dogs, cats have not undergone major changes during the domestication process.\\n'], ['As cat simply catenates streams of bytes, it can be also used to concatenate binary files, where it will just concatenate sequence of bytes.\\n'], ['A common interactive use of cat for a single file is to output the content of a file to standard output.\\n'], ['Cats can hear sounds too faint or too high in frequency for human ears, such as those made by mice and other small animals.\\n'], ['In one, people deliberately tamed cats in a process of artificial selection, as they were useful predators of vermin.\\n'], ['The domesticated cat and its closest wild ancestor are both diploid organisms that possess 38 chromosomes and roughly 20,000 genes.\\n'], ['Domestic cats are similar in size to the other members of the genus Felis, typically weighing between 4 and 5 kg (8.8 and 11.0 lb).\\n'], ['However, if the output is piped or redirected, cat is unnecessary.\\n'], ['cat with one named file is safer where human error is a concern - one wrong use of the default redirection symbol \">\" instead of \"<\" (often adjacent on keyboards) may permanently delete the file you were just needing to read.\\n'], ['In terms of legibility, a sequence of commands starting with cat and connected by pipes has a clear left-to-right flow of information.\\n'], ['Cat command is one of the basic commands that you learned when you started in the Unix / Linux world.\\n'], ['Using cat command, the lines received from stdin can be redirected to a new file using redirection symbols.\\n'], ['When you type simply cat command without any arguments, it just receives the stdin content and displays it in the stdout.\\n'], ['Leopard was released on October 26, 2007 as the successor of Tiger (version 10.4), and is available in two editions.\\n'], ['According to Apple, Leopard contains over 300 changes and enhancements over its predecessor, Mac OS X Tiger.\\n'], ['As of Mid 2010, some Apple computers have firmware factory installed which will no longer allow installation of Mac OS X Leopard.\\n'], ['Since Apple moved to using Intel processors in their computers, the OSx86 community has developed and now also allows Mac OS X Tiger and later releases to be installed on non-Apple x86-based computers.\\n'], [\"OS X Mountain Lion was released on July 25, 2012 for purchase and download through Apple's Mac App Store, as part of a switch to releasing OS X versions online and every year.\\n\"], ['Apple has released a small patch for the three most recent versions of Safari running on OS X Yosemite, Mavericks, and Mountain Lion.\\n'], ['The Mountain Lion release marks the second time Apple has offered an incremental upgrade, rather than releasing a new cat entirely.\\n'], [\"Mac OS X Mountain Lion installs in place, so you won't need to create a separate disk or run the installation off an external drive.\\n\"], [\"The fifth major update to Mac OS X, Leopard, contains such a mountain of features - more than 300 by Apple's count.\\n\"]] \n",
      "\n",
      "<type 'list'>\n"
     ]
    }
   ],
   "source": [
    "## check \n",
    "#print f_data_list_org, '\\n'*2, type(f_data_list_org)"
   ]
  },
  {
   "cell_type": "code",
   "execution_count": 12,
   "metadata": {
    "collapsed": false
   },
   "outputs": [
    {
     "data": {
      "text/plain": [
       "[['In comparison to dogs, cats have not undergone major changes during the domestication process.\\n'],\n",
       " ['As cat simply catenates streams of bytes, it can be also used to concatenate binary files, where it will just concatenate sequence of bytes.\\n'],\n",
       " ['A common interactive use of cat for a single file is to output the content of a file to standard output.\\n'],\n",
       " ['Cats can hear sounds too faint or too high in frequency for human ears, such as those made by mice and other small animals.\\n'],\n",
       " ['In one, people deliberately tamed cats in a process of artificial selection, as they were useful predators of vermin.\\n'],\n",
       " ['The domesticated cat and its closest wild ancestor are both diploid organisms that possess 38 chromosomes and roughly 20,000 genes.\\n'],\n",
       " ['Domestic cats are similar in size to the other members of the genus Felis, typically weighing between 4 and 5 kg (8.8 and 11.0 lb).\\n'],\n",
       " ['However, if the output is piped or redirected, cat is unnecessary.\\n'],\n",
       " ['cat with one named file is safer where human error is a concern - one wrong use of the default redirection symbol \">\" instead of \"<\" (often adjacent on keyboards) may permanently delete the file you were just needing to read.\\n'],\n",
       " ['In terms of legibility, a sequence of commands starting with cat and connected by pipes has a clear left-to-right flow of information.\\n'],\n",
       " ['Cat command is one of the basic commands that you learned when you started in the Unix / Linux world.\\n'],\n",
       " ['Using cat command, the lines received from stdin can be redirected to a new file using redirection symbols.\\n'],\n",
       " ['When you type simply cat command without any arguments, it just receives the stdin content and displays it in the stdout.\\n'],\n",
       " ['Leopard was released on October 26, 2007 as the successor of Tiger (version 10.4), and is available in two editions.\\n'],\n",
       " ['According to Apple, Leopard contains over 300 changes and enhancements over its predecessor, Mac OS X Tiger.\\n'],\n",
       " ['As of Mid 2010, some Apple computers have firmware factory installed which will no longer allow installation of Mac OS X Leopard.\\n'],\n",
       " ['Since Apple moved to using Intel processors in their computers, the OSx86 community has developed and now also allows Mac OS X Tiger and later releases to be installed on non-Apple x86-based computers.\\n'],\n",
       " [\"OS X Mountain Lion was released on July 25, 2012 for purchase and download through Apple's Mac App Store, as part of a switch to releasing OS X versions online and every year.\\n\"],\n",
       " ['Apple has released a small patch for the three most recent versions of Safari running on OS X Yosemite, Mavericks, and Mountain Lion.\\n'],\n",
       " ['The Mountain Lion release marks the second time Apple has offered an incremental upgrade, rather than releasing a new cat entirely.\\n'],\n",
       " [\"Mac OS X Mountain Lion installs in place, so you won't need to create a separate disk or run the installation off an external drive.\\n\"],\n",
       " [\"The fifth major update to Mac OS X, Leopard, contains such a mountain of features - more than 300 by Apple's count.\\n\"]]"
      ]
     },
     "execution_count": 12,
     "metadata": {},
     "output_type": "execute_result"
    }
   ],
   "source": [
    "## check\n",
    "#f_data_list_org"
   ]
  },
  {
   "cell_type": "markdown",
   "metadata": {},
   "source": [
    "---"
   ]
  },
  {
   "cell_type": "code",
   "execution_count": 13,
   "metadata": {
    "collapsed": false
   },
   "outputs": [],
   "source": [
    "import re"
   ]
  },
  {
   "cell_type": "code",
   "execution_count": 14,
   "metadata": {
    "collapsed": false
   },
   "outputs": [],
   "source": [
    "f_data_str_split = re.split('[^a-z]', f_data_str)"
   ]
  },
  {
   "cell_type": "code",
   "execution_count": 15,
   "metadata": {
    "collapsed": false
   },
   "outputs": [
    {
     "name": "stdout",
     "output_type": "stream",
     "text": [
      "['', '', 'in', 'comparison', 'to', 'dogs', '', 'cats', 'have', 'not', 'undergone', 'major', 'changes', 'during', 'the', 'domestication', 'process', '', 'n', '', '', '', 'as', 'cat', 'simply', 'catenates', 'streams', 'of', 'bytes', '', 'it', 'can', 'be', 'also', 'used', 'to', 'concatenate', 'binary', 'files', '', 'where', 'it', 'will', 'just', 'concatenate', 'sequence', 'of', 'bytes', '', 'n', '', '', '', 'a', 'common', 'interactive', 'use', 'of', 'cat', 'for', 'a', 'single', 'file', 'is', 'to', 'output', 'the', 'content', 'of', 'a', 'file', 'to', 'standard', 'output', '', 'n', '', '', '', 'cats', 'can', 'hear', 'sounds', 'too', 'faint', 'or', 'too', 'high', 'in', 'frequency', 'for', 'human', 'ears', '', 'such', 'as', 'those', 'made', 'by', 'mice', 'and', 'other', 'small', 'animals', '', 'n', '', '', '', 'in', 'one', '', 'people', 'deliberately', 'tamed', 'cats', 'in', 'a', 'process', 'of', 'artificial', 'selection', '', 'as', 'they', 'were', 'useful', 'predators', 'of', 'vermin', '', 'n', '', '', '', 'the', 'domesticated', 'cat', 'and', 'its', 'closest', 'wild', 'ancestor', 'are', 'both', 'diploid', 'organisms', 'that', 'possess', '', '', '', 'chromosomes', 'and', 'roughly', '', '', '', '', '', '', '', 'genes', '', 'n', '', '', '', 'domestic', 'cats', 'are', 'similar', 'in', 'size', 'to', 'the', 'other', 'members', 'of', 'the', 'genus', 'felis', '', 'typically', 'weighing', 'between', '', '', 'and', '', '', 'kg', '', '', '', '', '', 'and', '', '', '', '', '', 'lb', '', '', 'n', '', '', '', 'however', '', 'if', 'the', 'output', 'is', 'piped', 'or', 'redirected', '', 'cat', 'is', 'unnecessary', '', 'n', '', '', '', 'cat', 'with', 'one', 'named', 'file', 'is', 'safer', 'where', 'human', 'error', 'is', 'a', 'concern', '', '', 'one', 'wrong', 'use', 'of', 'the', 'default', 'redirection', 'symbol', '', '', '', '', 'instead', 'of', '', '', '', '', '', 'often', 'adjacent', 'on', 'keyboards', '', 'may', 'permanently', 'delete', 'the', 'file', 'you', 'were', 'just', 'needing', 'to', 'read', '', 'n', '', '', '', 'in', 'terms', 'of', 'legibility', '', 'a', 'sequence', 'of', 'commands', 'starting', 'with', 'cat', 'and', 'connected', 'by', 'pipes', 'has', 'a', 'clear', 'left', 'to', 'right', 'flow', 'of', 'information', '', 'n', '', '', '', 'cat', 'command', 'is', 'one', 'of', 'the', 'basic', 'commands', 'that', 'you', 'learned', 'when', 'you', 'started', 'in', 'the', 'unix', '', '', 'linux', 'world', '', 'n', '', '', '', 'using', 'cat', 'command', '', 'the', 'lines', 'received', 'from', 'stdin', 'can', 'be', 'redirected', 'to', 'a', 'new', 'file', 'using', 'redirection', 'symbols', '', 'n', '', '', '', 'when', 'you', 'type', 'simply', 'cat', 'command', 'without', 'any', 'arguments', '', 'it', 'just', 'receives', 'the', 'stdin', 'content', 'and', 'displays', 'it', 'in', 'the', 'stdout', '', 'n', '', '', '', 'leopard', 'was', 'released', 'on', 'october', '', '', '', '', '', '', '', '', '', 'as', 'the', 'successor', 'of', 'tiger', '', 'version', '', '', '', '', '', '', '', 'and', 'is', 'available', 'in', 'two', 'editions', '', 'n', '', '', '', 'according', 'to', 'apple', '', 'leopard', 'contains', 'over', '', '', '', '', 'changes', 'and', 'enhancements', 'over', 'its', 'predecessor', '', 'mac', 'os', 'x', 'tiger', '', 'n', '', '', '', 'as', 'of', 'mid', '', '', '', '', '', '', 'some', 'apple', 'computers', 'have', 'firmware', 'factory', 'installed', 'which', 'will', 'no', 'longer', 'allow', 'installation', 'of', 'mac', 'os', 'x', 'leopard', '', 'n', '', '', '', 'since', 'apple', 'moved', 'to', 'using', 'intel', 'processors', 'in', 'their', 'computers', '', 'the', 'osx', '', '', 'community', 'has', 'developed', 'and', 'now', 'also', 'allows', 'mac', 'os', 'x', 'tiger', 'and', 'later', 'releases', 'to', 'be', 'installed', 'on', 'non', 'apple', 'x', '', '', 'based', 'computers', '', 'n', '', '', '', 'os', 'x', 'mountain', 'lion', 'was', 'released', 'on', 'july', '', '', '', '', '', '', '', '', '', 'for', 'purchase', 'and', 'download', 'through', 'apple', 's', 'mac', 'app', 'store', '', 'as', 'part', 'of', 'a', 'switch', 'to', 'releasing', 'os', 'x', 'versions', 'online', 'and', 'every', 'year', '', 'n', '', '', '', 'apple', 'has', 'released', 'a', 'small', 'patch', 'for', 'the', 'three', 'most', 'recent', 'versions', 'of', 'safari', 'running', 'on', 'os', 'x', 'yosemite', '', 'mavericks', '', 'and', 'mountain', 'lion', '', 'n', '', '', '', 'the', 'mountain', 'lion', 'release', 'marks', 'the', 'second', 'time', 'apple', 'has', 'offered', 'an', 'incremental', 'upgrade', '', 'rather', 'than', 'releasing', 'a', 'new', 'cat', 'entirely', '', 'n', '', '', '', 'mac', 'os', 'x', 'mountain', 'lion', 'installs', 'in', 'place', '', 'so', 'you', 'won', 't', 'need', 'to', 'create', 'a', 'separate', 'disk', 'or', 'run', 'the', 'installation', 'off', 'an', 'external', 'drive', '', 'n', '', '', '', 'the', 'fifth', 'major', 'update', 'to', 'mac', 'os', 'x', '', 'leopard', '', 'contains', 'such', 'a', 'mountain', 'of', 'features', '', '', 'more', 'than', '', '', '', '', 'by', 'apple', 's', 'count', '', 'n', '', '']\n",
      "\n",
      "<type 'list'>\n"
     ]
    }
   ],
   "source": [
    "## check\n",
    "#print f_data_str_split\n",
    "#print '\\n', type(f_data_str_split)"
   ]
  },
  {
   "cell_type": "code",
   "execution_count": 16,
   "metadata": {
    "collapsed": false
   },
   "outputs": [],
   "source": [
    "while f_data_str_split.count('')!=0:\n",
    "    f_data_str_split.remove('')"
   ]
  },
  {
   "cell_type": "code",
   "execution_count": 19,
   "metadata": {
    "collapsed": false
   },
   "outputs": [
    {
     "name": "stdout",
     "output_type": "stream",
     "text": [
      "['in', 'comparison', 'to', 'dogs', 'cats', 'have', 'not', 'undergone', 'major', 'changes', 'during', 'the', 'domestication', 'process', 'n', 'as', 'cat', 'simply', 'catenates', 'streams', 'of', 'bytes', 'it', 'can', 'be', 'also', 'used', 'to', 'concatenate', 'binary', 'files', 'where', 'it', 'will', 'just', 'concatenate', 'sequence', 'of', 'bytes', 'n', 'a', 'common', 'interactive', 'use', 'of', 'cat', 'for', 'a', 'single', 'file', 'is', 'to', 'output', 'the', 'content', 'of', 'a', 'file', 'to', 'standard', 'output', 'n', 'cats', 'can', 'hear', 'sounds', 'too', 'faint', 'or', 'too', 'high', 'in', 'frequency', 'for', 'human', 'ears', 'such', 'as', 'those', 'made', 'by', 'mice', 'and', 'other', 'small', 'animals', 'n', 'in', 'one', 'people', 'deliberately', 'tamed', 'cats', 'in', 'a', 'process', 'of', 'artificial', 'selection', 'as', 'they', 'were', 'useful', 'predators', 'of', 'vermin', 'n', 'the', 'domesticated', 'cat', 'and', 'its', 'closest', 'wild', 'ancestor', 'are', 'both', 'diploid', 'organisms', 'that', 'possess', 'chromosomes', 'and', 'roughly', 'genes', 'n', 'domestic', 'cats', 'are', 'similar', 'in', 'size', 'to', 'the', 'other', 'members', 'of', 'the', 'genus', 'felis', 'typically', 'weighing', 'between', 'and', 'kg', 'and', 'lb', 'n', 'however', 'if', 'the', 'output', 'is', 'piped', 'or', 'redirected', 'cat', 'is', 'unnecessary', 'n', 'cat', 'with', 'one', 'named', 'file', 'is', 'safer', 'where', 'human', 'error', 'is', 'a', 'concern', 'one', 'wrong', 'use', 'of', 'the', 'default', 'redirection', 'symbol', 'instead', 'of', 'often', 'adjacent', 'on', 'keyboards', 'may', 'permanently', 'delete', 'the', 'file', 'you', 'were', 'just', 'needing', 'to', 'read', 'n', 'in', 'terms', 'of', 'legibility', 'a', 'sequence', 'of', 'commands', 'starting', 'with', 'cat', 'and', 'connected', 'by', 'pipes', 'has', 'a', 'clear', 'left', 'to', 'right', 'flow', 'of', 'information', 'n', 'cat', 'command', 'is', 'one', 'of', 'the', 'basic', 'commands', 'that', 'you', 'learned', 'when', 'you', 'started', 'in', 'the', 'unix', 'linux', 'world', 'n', 'using', 'cat', 'command', 'the', 'lines', 'received', 'from', 'stdin', 'can', 'be', 'redirected', 'to', 'a', 'new', 'file', 'using', 'redirection', 'symbols', 'n', 'when', 'you', 'type', 'simply', 'cat', 'command', 'without', 'any', 'arguments', 'it', 'just', 'receives', 'the', 'stdin', 'content', 'and', 'displays', 'it', 'in', 'the', 'stdout', 'n', 'leopard', 'was', 'released', 'on', 'october', 'as', 'the', 'successor', 'of', 'tiger', 'version', 'and', 'is', 'available', 'in', 'two', 'editions', 'n', 'according', 'to', 'apple', 'leopard', 'contains', 'over', 'changes', 'and', 'enhancements', 'over', 'its', 'predecessor', 'mac', 'os', 'x', 'tiger', 'n', 'as', 'of', 'mid', 'some', 'apple', 'computers', 'have', 'firmware', 'factory', 'installed', 'which', 'will', 'no', 'longer', 'allow', 'installation', 'of', 'mac', 'os', 'x', 'leopard', 'n', 'since', 'apple', 'moved', 'to', 'using', 'intel', 'processors', 'in', 'their', 'computers', 'the', 'osx', 'community', 'has', 'developed', 'and', 'now', 'also', 'allows', 'mac', 'os', 'x', 'tiger', 'and', 'later', 'releases', 'to', 'be', 'installed', 'on', 'non', 'apple', 'x', 'based', 'computers', 'n', 'os', 'x', 'mountain', 'lion', 'was', 'released', 'on', 'july', 'for', 'purchase', 'and', 'download', 'through', 'apple', 's', 'mac', 'app', 'store', 'as', 'part', 'of', 'a', 'switch', 'to', 'releasing', 'os', 'x', 'versions', 'online', 'and', 'every', 'year', 'n', 'apple', 'has', 'released', 'a', 'small', 'patch', 'for', 'the', 'three', 'most', 'recent', 'versions', 'of', 'safari', 'running', 'on', 'os', 'x', 'yosemite', 'mavericks', 'and', 'mountain', 'lion', 'n', 'the', 'mountain', 'lion', 'release', 'marks', 'the', 'second', 'time', 'apple', 'has', 'offered', 'an', 'incremental', 'upgrade', 'rather', 'than', 'releasing', 'a', 'new', 'cat', 'entirely', 'n', 'mac', 'os', 'x', 'mountain', 'lion', 'installs', 'in', 'place', 'so', 'you', 'won', 't', 'need', 'to', 'create', 'a', 'separate', 'disk', 'or', 'run', 'the', 'installation', 'off', 'an', 'external', 'drive', 'n', 'the', 'fifth', 'major', 'update', 'to', 'mac', 'os', 'x', 'leopard', 'contains', 'such', 'a', 'mountain', 'of', 'features', 'more', 'than', 'by', 'apple', 's', 'count', 'n']\n"
     ]
    }
   ],
   "source": [
    "## check\n",
    "#print f_data_str_split"
   ]
  },
  {
   "cell_type": "code",
   "execution_count": 20,
   "metadata": {
    "collapsed": false
   },
   "outputs": [],
   "source": [
    "while f_data_str_split.count('n')!=0:\n",
    "    f_data_str_split.remove('n')"
   ]
  },
  {
   "cell_type": "code",
   "execution_count": 21,
   "metadata": {
    "collapsed": false
   },
   "outputs": [
    {
     "name": "stdout",
     "output_type": "stream",
     "text": [
      "['in', 'comparison', 'to', 'dogs', 'cats', 'have', 'not', 'undergone', 'major', 'changes', 'during', 'the', 'domestication', 'process', 'as', 'cat', 'simply', 'catenates', 'streams', 'of', 'bytes', 'it', 'can', 'be', 'also', 'used', 'to', 'concatenate', 'binary', 'files', 'where', 'it', 'will', 'just', 'concatenate', 'sequence', 'of', 'bytes', 'a', 'common', 'interactive', 'use', 'of', 'cat', 'for', 'a', 'single', 'file', 'is', 'to', 'output', 'the', 'content', 'of', 'a', 'file', 'to', 'standard', 'output', 'cats', 'can', 'hear', 'sounds', 'too', 'faint', 'or', 'too', 'high', 'in', 'frequency', 'for', 'human', 'ears', 'such', 'as', 'those', 'made', 'by', 'mice', 'and', 'other', 'small', 'animals', 'in', 'one', 'people', 'deliberately', 'tamed', 'cats', 'in', 'a', 'process', 'of', 'artificial', 'selection', 'as', 'they', 'were', 'useful', 'predators', 'of', 'vermin', 'the', 'domesticated', 'cat', 'and', 'its', 'closest', 'wild', 'ancestor', 'are', 'both', 'diploid', 'organisms', 'that', 'possess', 'chromosomes', 'and', 'roughly', 'genes', 'domestic', 'cats', 'are', 'similar', 'in', 'size', 'to', 'the', 'other', 'members', 'of', 'the', 'genus', 'felis', 'typically', 'weighing', 'between', 'and', 'kg', 'and', 'lb', 'however', 'if', 'the', 'output', 'is', 'piped', 'or', 'redirected', 'cat', 'is', 'unnecessary', 'cat', 'with', 'one', 'named', 'file', 'is', 'safer', 'where', 'human', 'error', 'is', 'a', 'concern', 'one', 'wrong', 'use', 'of', 'the', 'default', 'redirection', 'symbol', 'instead', 'of', 'often', 'adjacent', 'on', 'keyboards', 'may', 'permanently', 'delete', 'the', 'file', 'you', 'were', 'just', 'needing', 'to', 'read', 'in', 'terms', 'of', 'legibility', 'a', 'sequence', 'of', 'commands', 'starting', 'with', 'cat', 'and', 'connected', 'by', 'pipes', 'has', 'a', 'clear', 'left', 'to', 'right', 'flow', 'of', 'information', 'cat', 'command', 'is', 'one', 'of', 'the', 'basic', 'commands', 'that', 'you', 'learned', 'when', 'you', 'started', 'in', 'the', 'unix', 'linux', 'world', 'using', 'cat', 'command', 'the', 'lines', 'received', 'from', 'stdin', 'can', 'be', 'redirected', 'to', 'a', 'new', 'file', 'using', 'redirection', 'symbols', 'when', 'you', 'type', 'simply', 'cat', 'command', 'without', 'any', 'arguments', 'it', 'just', 'receives', 'the', 'stdin', 'content', 'and', 'displays', 'it', 'in', 'the', 'stdout', 'leopard', 'was', 'released', 'on', 'october', 'as', 'the', 'successor', 'of', 'tiger', 'version', 'and', 'is', 'available', 'in', 'two', 'editions', 'according', 'to', 'apple', 'leopard', 'contains', 'over', 'changes', 'and', 'enhancements', 'over', 'its', 'predecessor', 'mac', 'os', 'x', 'tiger', 'as', 'of', 'mid', 'some', 'apple', 'computers', 'have', 'firmware', 'factory', 'installed', 'which', 'will', 'no', 'longer', 'allow', 'installation', 'of', 'mac', 'os', 'x', 'leopard', 'since', 'apple', 'moved', 'to', 'using', 'intel', 'processors', 'in', 'their', 'computers', 'the', 'osx', 'community', 'has', 'developed', 'and', 'now', 'also', 'allows', 'mac', 'os', 'x', 'tiger', 'and', 'later', 'releases', 'to', 'be', 'installed', 'on', 'non', 'apple', 'x', 'based', 'computers', 'os', 'x', 'mountain', 'lion', 'was', 'released', 'on', 'july', 'for', 'purchase', 'and', 'download', 'through', 'apple', 's', 'mac', 'app', 'store', 'as', 'part', 'of', 'a', 'switch', 'to', 'releasing', 'os', 'x', 'versions', 'online', 'and', 'every', 'year', 'apple', 'has', 'released', 'a', 'small', 'patch', 'for', 'the', 'three', 'most', 'recent', 'versions', 'of', 'safari', 'running', 'on', 'os', 'x', 'yosemite', 'mavericks', 'and', 'mountain', 'lion', 'the', 'mountain', 'lion', 'release', 'marks', 'the', 'second', 'time', 'apple', 'has', 'offered', 'an', 'incremental', 'upgrade', 'rather', 'than', 'releasing', 'a', 'new', 'cat', 'entirely', 'mac', 'os', 'x', 'mountain', 'lion', 'installs', 'in', 'place', 'so', 'you', 'won', 't', 'need', 'to', 'create', 'a', 'separate', 'disk', 'or', 'run', 'the', 'installation', 'off', 'an', 'external', 'drive', 'the', 'fifth', 'major', 'update', 'to', 'mac', 'os', 'x', 'leopard', 'contains', 'such', 'a', 'mountain', 'of', 'features', 'more', 'than', 'by', 'apple', 's', 'count']\n"
     ]
    }
   ],
   "source": [
    "## check\n",
    "#print f_data_str_split"
   ]
  },
  {
   "cell_type": "markdown",
   "metadata": {},
   "source": [
    "---"
   ]
  },
  {
   "cell_type": "code",
   "execution_count": 22,
   "metadata": {
    "collapsed": false
   },
   "outputs": [],
   "source": [
    "f_data_list_unique = list()"
   ]
  },
  {
   "cell_type": "code",
   "execution_count": 23,
   "metadata": {
    "collapsed": false
   },
   "outputs": [
    {
     "name": "stdout",
     "output_type": "stream",
     "text": [
      "<type 'list'>\n"
     ]
    }
   ],
   "source": [
    "## check\n",
    "#print type(f_data_list_unique)"
   ]
  },
  {
   "cell_type": "code",
   "execution_count": 24,
   "metadata": {
    "collapsed": true
   },
   "outputs": [],
   "source": [
    "for i in f_data_str_split:\n",
    "    if i not in f_data_list_unique:\n",
    "        f_data_list_unique.append(i)"
   ]
  },
  {
   "cell_type": "code",
   "execution_count": 25,
   "metadata": {
    "collapsed": false
   },
   "outputs": [
    {
     "name": "stdout",
     "output_type": "stream",
     "text": [
      "['in', 'comparison', 'to', 'dogs', 'cats', 'have', 'not', 'undergone', 'major', 'changes', 'during', 'the', 'domestication', 'process', 'as', 'cat', 'simply', 'catenates', 'streams', 'of', 'bytes', 'it', 'can', 'be', 'also', 'used', 'concatenate', 'binary', 'files', 'where', 'will', 'just', 'sequence', 'a', 'common', 'interactive', 'use', 'for', 'single', 'file', 'is', 'output', 'content', 'standard', 'hear', 'sounds', 'too', 'faint', 'or', 'high', 'frequency', 'human', 'ears', 'such', 'those', 'made', 'by', 'mice', 'and', 'other', 'small', 'animals', 'one', 'people', 'deliberately', 'tamed', 'artificial', 'selection', 'they', 'were', 'useful', 'predators', 'vermin', 'domesticated', 'its', 'closest', 'wild', 'ancestor', 'are', 'both', 'diploid', 'organisms', 'that', 'possess', 'chromosomes', 'roughly', 'genes', 'domestic', 'similar', 'size', 'members', 'genus', 'felis', 'typically', 'weighing', 'between', 'kg', 'lb', 'however', 'if', 'piped', 'redirected', 'unnecessary', 'with', 'named', 'safer', 'error', 'concern', 'wrong', 'default', 'redirection', 'symbol', 'instead', 'often', 'adjacent', 'on', 'keyboards', 'may', 'permanently', 'delete', 'you', 'needing', 'read', 'terms', 'legibility', 'commands', 'starting', 'connected', 'pipes', 'has', 'clear', 'left', 'right', 'flow', 'information', 'command', 'basic', 'learned', 'when', 'started', 'unix', 'linux', 'world', 'using', 'lines', 'received', 'from', 'stdin', 'new', 'symbols', 'type', 'without', 'any', 'arguments', 'receives', 'displays', 'stdout', 'leopard', 'was', 'released', 'october', 'successor', 'tiger', 'version', 'available', 'two', 'editions', 'according', 'apple', 'contains', 'over', 'enhancements', 'predecessor', 'mac', 'os', 'x', 'mid', 'some', 'computers', 'firmware', 'factory', 'installed', 'which', 'no', 'longer', 'allow', 'installation', 'since', 'moved', 'intel', 'processors', 'their', 'osx', 'community', 'developed', 'now', 'allows', 'later', 'releases', 'non', 'based', 'mountain', 'lion', 'july', 'purchase', 'download', 'through', 's', 'app', 'store', 'part', 'switch', 'releasing', 'versions', 'online', 'every', 'year', 'patch', 'three', 'most', 'recent', 'safari', 'running', 'yosemite', 'mavericks', 'release', 'marks', 'second', 'time', 'offered', 'an', 'incremental', 'upgrade', 'rather', 'than', 'entirely', 'installs', 'place', 'so', 'won', 't', 'need', 'create', 'separate', 'disk', 'run', 'off', 'external', 'drive', 'fifth', 'update', 'features', 'more', 'count']\n"
     ]
    }
   ],
   "source": [
    "## check\n",
    "#print f_data_list_unique"
   ]
  },
  {
   "cell_type": "code",
   "execution_count": 26,
   "metadata": {
    "collapsed": true
   },
   "outputs": [],
   "source": [
    "f_data_dict = dict((i, v) for i, v in enumerate(f_data_list_unique))"
   ]
  },
  {
   "cell_type": "code",
   "execution_count": 27,
   "metadata": {
    "collapsed": false
   },
   "outputs": [
    {
     "data": {
      "text/plain": [
       "{0: 'in',\n",
       " 1: 'comparison',\n",
       " 2: 'to',\n",
       " 3: 'dogs',\n",
       " 4: 'cats',\n",
       " 5: 'have',\n",
       " 6: 'not',\n",
       " 7: 'undergone',\n",
       " 8: 'major',\n",
       " 9: 'changes',\n",
       " 10: 'during',\n",
       " 11: 'the',\n",
       " 12: 'domestication',\n",
       " 13: 'process',\n",
       " 14: 'as',\n",
       " 15: 'cat',\n",
       " 16: 'simply',\n",
       " 17: 'catenates',\n",
       " 18: 'streams',\n",
       " 19: 'of',\n",
       " 20: 'bytes',\n",
       " 21: 'it',\n",
       " 22: 'can',\n",
       " 23: 'be',\n",
       " 24: 'also',\n",
       " 25: 'used',\n",
       " 26: 'concatenate',\n",
       " 27: 'binary',\n",
       " 28: 'files',\n",
       " 29: 'where',\n",
       " 30: 'will',\n",
       " 31: 'just',\n",
       " 32: 'sequence',\n",
       " 33: 'a',\n",
       " 34: 'common',\n",
       " 35: 'interactive',\n",
       " 36: 'use',\n",
       " 37: 'for',\n",
       " 38: 'single',\n",
       " 39: 'file',\n",
       " 40: 'is',\n",
       " 41: 'output',\n",
       " 42: 'content',\n",
       " 43: 'standard',\n",
       " 44: 'hear',\n",
       " 45: 'sounds',\n",
       " 46: 'too',\n",
       " 47: 'faint',\n",
       " 48: 'or',\n",
       " 49: 'high',\n",
       " 50: 'frequency',\n",
       " 51: 'human',\n",
       " 52: 'ears',\n",
       " 53: 'such',\n",
       " 54: 'those',\n",
       " 55: 'made',\n",
       " 56: 'by',\n",
       " 57: 'mice',\n",
       " 58: 'and',\n",
       " 59: 'other',\n",
       " 60: 'small',\n",
       " 61: 'animals',\n",
       " 62: 'one',\n",
       " 63: 'people',\n",
       " 64: 'deliberately',\n",
       " 65: 'tamed',\n",
       " 66: 'artificial',\n",
       " 67: 'selection',\n",
       " 68: 'they',\n",
       " 69: 'were',\n",
       " 70: 'useful',\n",
       " 71: 'predators',\n",
       " 72: 'vermin',\n",
       " 73: 'domesticated',\n",
       " 74: 'its',\n",
       " 75: 'closest',\n",
       " 76: 'wild',\n",
       " 77: 'ancestor',\n",
       " 78: 'are',\n",
       " 79: 'both',\n",
       " 80: 'diploid',\n",
       " 81: 'organisms',\n",
       " 82: 'that',\n",
       " 83: 'possess',\n",
       " 84: 'chromosomes',\n",
       " 85: 'roughly',\n",
       " 86: 'genes',\n",
       " 87: 'domestic',\n",
       " 88: 'similar',\n",
       " 89: 'size',\n",
       " 90: 'members',\n",
       " 91: 'genus',\n",
       " 92: 'felis',\n",
       " 93: 'typically',\n",
       " 94: 'weighing',\n",
       " 95: 'between',\n",
       " 96: 'kg',\n",
       " 97: 'lb',\n",
       " 98: 'however',\n",
       " 99: 'if',\n",
       " 100: 'piped',\n",
       " 101: 'redirected',\n",
       " 102: 'unnecessary',\n",
       " 103: 'with',\n",
       " 104: 'named',\n",
       " 105: 'safer',\n",
       " 106: 'error',\n",
       " 107: 'concern',\n",
       " 108: 'wrong',\n",
       " 109: 'default',\n",
       " 110: 'redirection',\n",
       " 111: 'symbol',\n",
       " 112: 'instead',\n",
       " 113: 'often',\n",
       " 114: 'adjacent',\n",
       " 115: 'on',\n",
       " 116: 'keyboards',\n",
       " 117: 'may',\n",
       " 118: 'permanently',\n",
       " 119: 'delete',\n",
       " 120: 'you',\n",
       " 121: 'needing',\n",
       " 122: 'read',\n",
       " 123: 'terms',\n",
       " 124: 'legibility',\n",
       " 125: 'commands',\n",
       " 126: 'starting',\n",
       " 127: 'connected',\n",
       " 128: 'pipes',\n",
       " 129: 'has',\n",
       " 130: 'clear',\n",
       " 131: 'left',\n",
       " 132: 'right',\n",
       " 133: 'flow',\n",
       " 134: 'information',\n",
       " 135: 'command',\n",
       " 136: 'basic',\n",
       " 137: 'learned',\n",
       " 138: 'when',\n",
       " 139: 'started',\n",
       " 140: 'unix',\n",
       " 141: 'linux',\n",
       " 142: 'world',\n",
       " 143: 'using',\n",
       " 144: 'lines',\n",
       " 145: 'received',\n",
       " 146: 'from',\n",
       " 147: 'stdin',\n",
       " 148: 'new',\n",
       " 149: 'symbols',\n",
       " 150: 'type',\n",
       " 151: 'without',\n",
       " 152: 'any',\n",
       " 153: 'arguments',\n",
       " 154: 'receives',\n",
       " 155: 'displays',\n",
       " 156: 'stdout',\n",
       " 157: 'leopard',\n",
       " 158: 'was',\n",
       " 159: 'released',\n",
       " 160: 'october',\n",
       " 161: 'successor',\n",
       " 162: 'tiger',\n",
       " 163: 'version',\n",
       " 164: 'available',\n",
       " 165: 'two',\n",
       " 166: 'editions',\n",
       " 167: 'according',\n",
       " 168: 'apple',\n",
       " 169: 'contains',\n",
       " 170: 'over',\n",
       " 171: 'enhancements',\n",
       " 172: 'predecessor',\n",
       " 173: 'mac',\n",
       " 174: 'os',\n",
       " 175: 'x',\n",
       " 176: 'mid',\n",
       " 177: 'some',\n",
       " 178: 'computers',\n",
       " 179: 'firmware',\n",
       " 180: 'factory',\n",
       " 181: 'installed',\n",
       " 182: 'which',\n",
       " 183: 'no',\n",
       " 184: 'longer',\n",
       " 185: 'allow',\n",
       " 186: 'installation',\n",
       " 187: 'since',\n",
       " 188: 'moved',\n",
       " 189: 'intel',\n",
       " 190: 'processors',\n",
       " 191: 'their',\n",
       " 192: 'osx',\n",
       " 193: 'community',\n",
       " 194: 'developed',\n",
       " 195: 'now',\n",
       " 196: 'allows',\n",
       " 197: 'later',\n",
       " 198: 'releases',\n",
       " 199: 'non',\n",
       " 200: 'based',\n",
       " 201: 'mountain',\n",
       " 202: 'lion',\n",
       " 203: 'july',\n",
       " 204: 'purchase',\n",
       " 205: 'download',\n",
       " 206: 'through',\n",
       " 207: 's',\n",
       " 208: 'app',\n",
       " 209: 'store',\n",
       " 210: 'part',\n",
       " 211: 'switch',\n",
       " 212: 'releasing',\n",
       " 213: 'versions',\n",
       " 214: 'online',\n",
       " 215: 'every',\n",
       " 216: 'year',\n",
       " 217: 'patch',\n",
       " 218: 'three',\n",
       " 219: 'most',\n",
       " 220: 'recent',\n",
       " 221: 'safari',\n",
       " 222: 'running',\n",
       " 223: 'yosemite',\n",
       " 224: 'mavericks',\n",
       " 225: 'release',\n",
       " 226: 'marks',\n",
       " 227: 'second',\n",
       " 228: 'time',\n",
       " 229: 'offered',\n",
       " 230: 'an',\n",
       " 231: 'incremental',\n",
       " 232: 'upgrade',\n",
       " 233: 'rather',\n",
       " 234: 'than',\n",
       " 235: 'entirely',\n",
       " 236: 'installs',\n",
       " 237: 'place',\n",
       " 238: 'so',\n",
       " 239: 'won',\n",
       " 240: 't',\n",
       " 241: 'need',\n",
       " 242: 'create',\n",
       " 243: 'separate',\n",
       " 244: 'disk',\n",
       " 245: 'run',\n",
       " 246: 'off',\n",
       " 247: 'external',\n",
       " 248: 'drive',\n",
       " 249: 'fifth',\n",
       " 250: 'update',\n",
       " 251: 'features',\n",
       " 252: 'more',\n",
       " 253: 'count'}"
      ]
     },
     "execution_count": 27,
     "metadata": {},
     "output_type": "execute_result"
    }
   ],
   "source": [
    "## check\n",
    "#f_data_dict"
   ]
  },
  {
   "cell_type": "markdown",
   "metadata": {},
   "source": [
    "---"
   ]
  },
  {
   "cell_type": "code",
   "execution_count": 28,
   "metadata": {
    "collapsed": true
   },
   "outputs": [],
   "source": [
    "import numpy as np"
   ]
  },
  {
   "cell_type": "code",
   "execution_count": 29,
   "metadata": {
    "collapsed": false
   },
   "outputs": [],
   "source": [
    "f_data_dict_values_nparray = np.array(f_data_dict.values())"
   ]
  },
  {
   "cell_type": "code",
   "execution_count": 30,
   "metadata": {
    "collapsed": false
   },
   "outputs": [
    {
     "name": "stdout",
     "output_type": "stream",
     "text": [
      "['in' 'comparison' 'to' 'dogs' 'cats' 'have' 'not' 'undergone' 'major'\n",
      " 'changes' 'during' 'the' 'domestication' 'process' 'as' 'cat' 'simply'\n",
      " 'catenates' 'streams' 'of' 'bytes' 'it' 'can' 'be' 'also' 'used'\n",
      " 'concatenate' 'binary' 'files' 'where' 'will' 'just' 'sequence' 'a'\n",
      " 'common' 'interactive' 'use' 'for' 'single' 'file' 'is' 'output' 'content'\n",
      " 'standard' 'hear' 'sounds' 'too' 'faint' 'or' 'high' 'frequency' 'human'\n",
      " 'ears' 'such' 'those' 'made' 'by' 'mice' 'and' 'other' 'small' 'animals'\n",
      " 'one' 'people' 'deliberately' 'tamed' 'artificial' 'selection' 'they'\n",
      " 'were' 'useful' 'predators' 'vermin' 'domesticated' 'its' 'closest' 'wild'\n",
      " 'ancestor' 'are' 'both' 'diploid' 'organisms' 'that' 'possess'\n",
      " 'chromosomes' 'roughly' 'genes' 'domestic' 'similar' 'size' 'members'\n",
      " 'genus' 'felis' 'typically' 'weighing' 'between' 'kg' 'lb' 'however' 'if'\n",
      " 'piped' 'redirected' 'unnecessary' 'with' 'named' 'safer' 'error'\n",
      " 'concern' 'wrong' 'default' 'redirection' 'symbol' 'instead' 'often'\n",
      " 'adjacent' 'on' 'keyboards' 'may' 'permanently' 'delete' 'you' 'needing'\n",
      " 'read' 'terms' 'legibility' 'commands' 'starting' 'connected' 'pipes'\n",
      " 'has' 'clear' 'left' 'right' 'flow' 'information' 'command' 'basic'\n",
      " 'learned' 'when' 'started' 'unix' 'linux' 'world' 'using' 'lines'\n",
      " 'received' 'from' 'stdin' 'new' 'symbols' 'type' 'without' 'any'\n",
      " 'arguments' 'receives' 'displays' 'stdout' 'leopard' 'was' 'released'\n",
      " 'october' 'successor' 'tiger' 'version' 'available' 'two' 'editions'\n",
      " 'according' 'apple' 'contains' 'over' 'enhancements' 'predecessor' 'mac'\n",
      " 'os' 'x' 'mid' 'some' 'computers' 'firmware' 'factory' 'installed' 'which'\n",
      " 'no' 'longer' 'allow' 'installation' 'since' 'moved' 'intel' 'processors'\n",
      " 'their' 'osx' 'community' 'developed' 'now' 'allows' 'later' 'releases'\n",
      " 'non' 'based' 'mountain' 'lion' 'july' 'purchase' 'download' 'through' 's'\n",
      " 'app' 'store' 'part' 'switch' 'releasing' 'versions' 'online' 'every'\n",
      " 'year' 'patch' 'three' 'most' 'recent' 'safari' 'running' 'yosemite'\n",
      " 'mavericks' 'release' 'marks' 'second' 'time' 'offered' 'an' 'incremental'\n",
      " 'upgrade' 'rather' 'than' 'entirely' 'installs' 'place' 'so' 'won' 't'\n",
      " 'need' 'create' 'separate' 'disk' 'run' 'off' 'external' 'drive' 'fifth'\n",
      " 'update' 'features' 'more' 'count'] \n",
      "\n",
      "<type 'numpy.ndarray'>\n"
     ]
    }
   ],
   "source": [
    "## check\n",
    "#print f_data_dict_values_nparray, '\\n'*2, type(f_data_dict_values_nparray)"
   ]
  },
  {
   "cell_type": "markdown",
   "metadata": {},
   "source": [
    "---"
   ]
  },
  {
   "cell_type": "code",
   "execution_count": 31,
   "metadata": {
    "collapsed": true
   },
   "outputs": [],
   "source": [
    "f_data_list_org_nparray = np.array(f_data_list_org)"
   ]
  },
  {
   "cell_type": "code",
   "execution_count": 32,
   "metadata": {
    "collapsed": false
   },
   "outputs": [
    {
     "name": "stdout",
     "output_type": "stream",
     "text": [
      "[[ 'In comparison to dogs, cats have not undergone major changes during the domestication process.\\n']\n",
      " [ 'As cat simply catenates streams of bytes, it can be also used to concatenate binary files, where it will just concatenate sequence of bytes.\\n']\n",
      " [ 'A common interactive use of cat for a single file is to output the content of a file to standard output.\\n']\n",
      " [ 'Cats can hear sounds too faint or too high in frequency for human ears, such as those made by mice and other small animals.\\n']\n",
      " [ 'In one, people deliberately tamed cats in a process of artificial selection, as they were useful predators of vermin.\\n']\n",
      " [ 'The domesticated cat and its closest wild ancestor are both diploid organisms that possess 38 chromosomes and roughly 20,000 genes.\\n']\n",
      " [ 'Domestic cats are similar in size to the other members of the genus Felis, typically weighing between 4 and 5 kg (8.8 and 11.0 lb).\\n']\n",
      " ['However, if the output is piped or redirected, cat is unnecessary.\\n']\n",
      " [ 'cat with one named file is safer where human error is a concern - one wrong use of the default redirection symbol \">\" instead of \"<\" (often adjacent on keyboards) may permanently delete the file you were just needing to read.\\n']\n",
      " [ 'In terms of legibility, a sequence of commands starting with cat and connected by pipes has a clear left-to-right flow of information.\\n']\n",
      " [ 'Cat command is one of the basic commands that you learned when you started in the Unix / Linux world.\\n']\n",
      " [ 'Using cat command, the lines received from stdin can be redirected to a new file using redirection symbols.\\n']\n",
      " [ 'When you type simply cat command without any arguments, it just receives the stdin content and displays it in the stdout.\\n']\n",
      " [ 'Leopard was released on October 26, 2007 as the successor of Tiger (version 10.4), and is available in two editions.\\n']\n",
      " [ 'According to Apple, Leopard contains over 300 changes and enhancements over its predecessor, Mac OS X Tiger.\\n']\n",
      " [ 'As of Mid 2010, some Apple computers have firmware factory installed which will no longer allow installation of Mac OS X Leopard.\\n']\n",
      " [ 'Since Apple moved to using Intel processors in their computers, the OSx86 community has developed and now also allows Mac OS X Tiger and later releases to be installed on non-Apple x86-based computers.\\n']\n",
      " [ \"OS X Mountain Lion was released on July 25, 2012 for purchase and download through Apple's Mac App Store, as part of a switch to releasing OS X versions online and every year.\\n\"]\n",
      " [ 'Apple has released a small patch for the three most recent versions of Safari running on OS X Yosemite, Mavericks, and Mountain Lion.\\n']\n",
      " [ 'The Mountain Lion release marks the second time Apple has offered an incremental upgrade, rather than releasing a new cat entirely.\\n']\n",
      " [ \"Mac OS X Mountain Lion installs in place, so you won't need to create a separate disk or run the installation off an external drive.\\n\"]\n",
      " [ \"The fifth major update to Mac OS X, Leopard, contains such a mountain of features - more than 300 by Apple's count.\\n\"]]\n"
     ]
    }
   ],
   "source": [
    "## check\n",
    "#print f_data_list_org_nparray"
   ]
  },
  {
   "cell_type": "markdown",
   "metadata": {},
   "source": [
    "---"
   ]
  },
  {
   "cell_type": "code",
   "execution_count": 33,
   "metadata": {
    "collapsed": false
   },
   "outputs": [],
   "source": [
    "f_data_matrix = np.char.count(f_data_list_org_nparray, f_data_dict_values_nparray)"
   ]
  },
  {
   "cell_type": "code",
   "execution_count": 34,
   "metadata": {
    "collapsed": false
   },
   "outputs": [
    {
     "name": "stdout",
     "output_type": "stream",
     "text": [
      "[[1 1 1 ..., 0 0 0]\n",
      " [1 0 1 ..., 0 0 0]\n",
      " [2 0 2 ..., 0 0 0]\n",
      " ..., \n",
      " [3 0 0 ..., 0 0 0]\n",
      " [4 0 1 ..., 0 0 0]\n",
      " [2 0 1 ..., 1 1 1]]\n"
     ]
    }
   ],
   "source": [
    "## check\n",
    "#print f_data_matrix"
   ]
  },
  {
   "cell_type": "code",
   "execution_count": 35,
   "metadata": {
    "collapsed": false
   },
   "outputs": [
    {
     "data": {
      "text/plain": [
       "(22L, 254L)"
      ]
     },
     "execution_count": 35,
     "metadata": {},
     "output_type": "execute_result"
    }
   ],
   "source": [
    "## check\n",
    "#f_data_matrix.shape"
   ]
  },
  {
   "cell_type": "markdown",
   "metadata": {},
   "source": [
    "---"
   ]
  },
  {
   "cell_type": "code",
   "execution_count": 36,
   "metadata": {
    "collapsed": true
   },
   "outputs": [],
   "source": [
    "from scipy.spatial.distance import cdist"
   ]
  },
  {
   "cell_type": "code",
   "execution_count": 50,
   "metadata": {
    "collapsed": false
   },
   "outputs": [],
   "source": [
    "f_data_list_cnt = 0\n",
    "for i in f_data_list:\n",
    "    f_data_list_cnt += 1"
   ]
  },
  {
   "cell_type": "code",
   "execution_count": 51,
   "metadata": {
    "collapsed": false
   },
   "outputs": [],
   "source": [
    "result_cnt = 0\n",
    "distance_list = list()\n",
    "f_data_matrix_compare_elmnt = f_data_matrix[0]\n",
    "\n",
    "while result_cnt != f_data_list_cnt:  \n",
    "    for i_line_matrix in f_data_matrix:\n",
    "        i_distance = cdist(f_data_matrix_compare_elmnt[np.newaxis, :],i_line_matrix[np.newaxis, :],metric='euclidean')\n",
    "        distance_list.append(int(i_distance))\n",
    "        result_cnt += 1"
   ]
  },
  {
   "cell_type": "code",
   "execution_count": 52,
   "metadata": {
    "collapsed": false
   },
   "outputs": [
    {
     "data": {
      "text/plain": [
       "[0, 13, 9, 10, 6, 11, 7, 7, 12, 9, 7, 7, 11, 7, 6, 7, 11, 11, 8, 9, 9, 7]"
      ]
     },
     "execution_count": 52,
     "metadata": {},
     "output_type": "execute_result"
    }
   ],
   "source": [
    "distance_list"
   ]
  },
  {
   "cell_type": "code",
   "execution_count": null,
   "metadata": {
    "collapsed": true
   },
   "outputs": [],
   "source": []
  },
  {
   "cell_type": "code",
   "execution_count": null,
   "metadata": {
    "collapsed": true
   },
   "outputs": [],
   "source": []
  },
  {
   "cell_type": "code",
   "execution_count": null,
   "metadata": {
    "collapsed": true
   },
   "outputs": [],
   "source": []
  },
  {
   "cell_type": "code",
   "execution_count": 53,
   "metadata": {
    "collapsed": false
   },
   "outputs": [
    {
     "name": "stdout",
     "output_type": "stream",
     "text": [
      "[0, 6, 6, 7, 7, 7, 7, 7, 7, 7, 8, 9, 9, 9, 9, 10, 11, 11, 11, 11, 12, 13]\n"
     ]
    }
   ],
   "source": [
    "dls = sorted(distance_list)\n",
    "print dls"
   ]
  },
  {
   "cell_type": "code",
   "execution_count": null,
   "metadata": {
    "collapsed": true
   },
   "outputs": [],
   "source": []
  },
  {
   "cell_type": "code",
   "execution_count": null,
   "metadata": {
    "collapsed": true
   },
   "outputs": [],
   "source": []
  },
  {
   "cell_type": "code",
   "execution_count": null,
   "metadata": {
    "collapsed": true
   },
   "outputs": [],
   "source": []
  },
  {
   "cell_type": "code",
   "execution_count": 57,
   "metadata": {
    "collapsed": false
   },
   "outputs": [
    {
     "name": "stdout",
     "output_type": "stream",
     "text": [
      "value  0 \n",
      "index  0 \n",
      "\n",
      "value  6 \n",
      "index  4 \n",
      "\n",
      "value  7 \n",
      "index  6 \n",
      "\n",
      "value  8 \n",
      "index  18 \n",
      "\n",
      "value  9 \n",
      "index  2 \n",
      "\n",
      "value  10 \n",
      "index  3 \n",
      "\n",
      "value  11 \n",
      "index  5 \n",
      "\n",
      "value  12 \n",
      "index  8 \n",
      "\n",
      "value  13 \n",
      "index  1 \n",
      "\n"
     ]
    }
   ],
   "source": [
    "dls_indx = []\n",
    "\n",
    "for i in dls:\n",
    "    j = distance_list.index(i)\n",
    "    if j not in dls_indx:\n",
    "        dls_indx.append(j)\n",
    "        print \"value \", i, '\\n', \"index \", j, '\\n'\n",
    "    "
   ]
  },
  {
   "cell_type": "code",
   "execution_count": 64,
   "metadata": {
    "collapsed": false
   },
   "outputs": [],
   "source": [
    "answer = dls_indx[1:3]"
   ]
  },
  {
   "cell_type": "markdown",
   "metadata": {},
   "source": [
    "---"
   ]
  },
  {
   "cell_type": "code",
   "execution_count": 65,
   "metadata": {
    "collapsed": false
   },
   "outputs": [],
   "source": [
    "#запись в файл списка строк с помощью функции writelines\n",
    "f_result = open('submission-1.txt', 'w')\n",
    "f_result.writelines(i_answer + ' ' for i_answer in map(str, answer))\n",
    "f_result.close()"
   ]
  },
  {
   "cell_type": "code",
   "execution_count": 66,
   "metadata": {
    "collapsed": false
   },
   "outputs": [
    {
     "name": "stdout",
     "output_type": "stream",
     "text": [
      "4 6 \n"
     ]
    }
   ],
   "source": [
    "f_result = open('submission-1.txt', 'r')\n",
    "print f_result.read()"
   ]
  },
  {
   "cell_type": "code",
   "execution_count": null,
   "metadata": {
    "collapsed": true
   },
   "outputs": [],
   "source": [
    "# ВЕРНЫЙ ОТВЕТ\n",
    "Расстояние до 6-го текста равно 0.73, до 4-го — 0.78."
   ]
  }
 ],
 "metadata": {
  "anaconda-cloud": {},
  "kernelspec": {
   "display_name": "Python [Root]",
   "language": "python",
   "name": "Python [Root]"
  },
  "language_info": {
   "codemirror_mode": {
    "name": "ipython",
    "version": 2
   },
   "file_extension": ".py",
   "mimetype": "text/x-python",
   "name": "python",
   "nbconvert_exporter": "python",
   "pygments_lexer": "ipython2",
   "version": "2.7.12"
  }
 },
 "nbformat": 4,
 "nbformat_minor": 0
}
