{
 "cells": [
  {
   "cell_type": "code",
   "execution_count": 25,
   "metadata": {
    "collapsed": true
   },
   "outputs": [],
   "source": [
    "import pylab\n",
    "import numpy as np\n",
    "import matplotlib.pyplot as plt\n",
    "% matplotlib inline"
   ]
  },
  {
   "cell_type": "code",
   "execution_count": 26,
   "metadata": {
    "collapsed": false
   },
   "outputs": [],
   "source": [
    "def f(x):    \n",
    "    return np.sin(x/5) * np.exp(x/10) + 5 * np.exp(-x/2)"
   ]
  },
  {
   "cell_type": "code",
   "execution_count": 27,
   "metadata": {
    "collapsed": false
   },
   "outputs": [
    {
     "name": "stdout",
     "output_type": "stream",
     "text": [
      "<type 'numpy.ndarray'> \n",
      "\n",
      "[  1.   4.  10.  15.]\n"
     ]
    }
   ],
   "source": [
    "x = np.array([1., 4., 10., 15.]) ##Запишем все числа с точкой, т.к. иначе в Python 2 они будут участвовать в целочисленных операциях (остатки от деления будут отбрасываться)\n",
    "print type(x), '\\n'*2, x"
   ]
  },
  {
   "cell_type": "code",
   "execution_count": 28,
   "metadata": {
    "collapsed": false
   },
   "outputs": [
    {
     "name": "stdout",
     "output_type": "stream",
     "text": [
      "<type 'numpy.ndarray'> \n",
      "\n",
      "[[  1.00000000e+00   1.00000000e+00   1.00000000e+00   1.00000000e+00]\n",
      " [  1.00000000e+00   4.00000000e+00   1.60000000e+01   6.40000000e+01]\n",
      " [  1.00000000e+00   1.00000000e+01   1.00000000e+02   1.00000000e+03]\n",
      " [  1.00000000e+00   1.50000000e+01   2.25000000e+02   3.37500000e+03]]\n"
     ]
    }
   ],
   "source": [
    "V_matrix = np.array([[1, 1**1, 1**2, 1**3],[1, 4**1, 4**2, 4**3],[1, 10**1, 10**2, 10**3],[1, 15**1, 15**2, 15**3]], dtype=float)\n",
    "print type(V_matrix), '\\n'*2, V_matrix"
   ]
  },
  {
   "cell_type": "code",
   "execution_count": 29,
   "metadata": {
    "collapsed": false
   },
   "outputs": [
    {
     "name": "stdout",
     "output_type": "stream",
     "text": [
      "<type 'numpy.ndarray'> \n",
      "\n",
      "[ 4.36264154 -1.29552587  0.19333685 -0.00823565]\n"
     ]
    }
   ],
   "source": [
    "a_vector = np.linalg.solve(V_matrix, f(x))\n",
    "print type(a_vector), '\\n'*2, a_vector"
   ]
  },
  {
   "cell_type": "code",
   "execution_count": 30,
   "metadata": {
    "collapsed": false
   },
   "outputs": [
    {
     "name": "stdout",
     "output_type": "stream",
     "text": [
      "[[  1.00000000e+00   1.00000000e+00   1.00000000e+00   1.00000000e+00]\n",
      " [  1.00000000e+00   4.00000000e+00   1.60000000e+01   6.40000000e+01]\n",
      " [  1.00000000e+00   1.00000000e+01   1.00000000e+02   1.00000000e+03]\n",
      " [  1.00000000e+00   1.50000000e+01   2.25000000e+02   3.37500000e+03]] \n",
      "\n",
      "[ 3.25221687  1.74684595  2.50541641  0.63522142] \n",
      "\n",
      "[ 4.36264154 -1.29552587  0.19333685 -0.00823565]\n"
     ]
    }
   ],
   "source": [
    "print V_matrix, '\\n'*2, f(x), '\\n'*2, a_vector"
   ]
  },
  {
   "cell_type": "code",
   "execution_count": 31,
   "metadata": {
    "collapsed": false
   },
   "outputs": [
    {
     "name": "stdout",
     "output_type": "stream",
     "text": [
      "[    8.13970064    90.98043403   906.48373664  2737.04588876]\n",
      "False\n"
     ]
    }
   ],
   "source": [
    "# Проверка:\n",
    "print np.dot(V_matrix, f(x))\n",
    "# Проверка того, что решение верно:\n",
    "print np.allclose(np.dot(V_matrix, f(x)), a_vector)"
   ]
  },
  {
   "cell_type": "code",
   "execution_count": 32,
   "metadata": {
    "collapsed": false
   },
   "outputs": [],
   "source": [
    "def P(x):\n",
    "    return a_vector[0]*(x**0)+a_vector[1]*(x**1)+a_vector[2]*(x**2)+a_vector[3]*(x**3)"
   ]
  },
  {
   "cell_type": "code",
   "execution_count": 33,
   "metadata": {
    "collapsed": false
   },
   "outputs": [
    {
     "data": {
      "text/plain": [
       "(3.2522168652714192,\n",
       " 1.7468459495903697,\n",
       " 2.5054164070002436,\n",
       " array(0.635221419578663))"
      ]
     },
     "execution_count": 33,
     "metadata": {},
     "output_type": "execute_result"
    }
   ],
   "source": [
    "P(1), P(4), P(10), np.array(P(15))"
   ]
  },
  {
   "cell_type": "code",
   "execution_count": null,
   "metadata": {
    "collapsed": true
   },
   "outputs": [],
   "source": []
  },
  {
   "cell_type": "code",
   "execution_count": 36,
   "metadata": {
    "collapsed": false
   },
   "outputs": [
    {
     "data": {
      "image/png": "[encoded data removed]",
      "text/plain": [
       "<matplotlib.figure.Figure at 0x7fcd9b0>"
      ]
     },
     "metadata": {},
     "output_type": "display_data"
    }
   ],
   "source": [
    "fig, ax = plt.subplots()\n",
    "\n",
    "x_test = np.linspace(1, 15, 30) # Сгенерируем Numpy массив из точек (аргументов, x) в интервале от 1 до 15.\n",
    "\n",
    "y = [f(1.), f(4.), f(10.), f(15.)]\n",
    "\n",
    "ax.plot(x_test, f(x_test)) #1st plot\n",
    "ax.plot(x, f(x)) #2st plot\n",
    "ax.plot(x, y) #3nd plot\n",
    "ax.plot(x_test, P(x_test)) #3nd plot\n",
    "plt.show()\n",
    "\n",
    "#ax.plot(x, x**2, x, x**3, x, x**4) # построим последовательно 3 графика внутри 1 функции plot()\n",
    "#plt.show() # Покажем результат построений"
   ]
  },
  {
   "cell_type": "code",
   "execution_count": 20,
   "metadata": {
    "collapsed": false
   },
   "outputs": [
    {
     "data": {
      "image/png": "[encoded data removed]",
      "text/plain": [
       "<matplotlib.figure.Figure at 0x86b98d0>"
      ]
     },
     "metadata": {},
     "output_type": "display_data"
    }
   ],
   "source": [
    "fig, ax = plt.subplots()\n",
    "\n",
    "x_test_2 = np.linspace(1, 15, 30) # Сгенерируем Numpy массив из точек (аргументов, x) в интервале от 1 до 15.\n",
    "\n",
    "ax.plot(x_test_2, P(x_test_2)) #1st plot\n",
    "plt.show()\n",
    "\n",
    "#ax.plot(x, x**2, x, x**3, x, x**4) # построим последовательно 3 графика внутри 1 функции plot()\n",
    "#plt.show() # Покажем результат построений"
   ]
  },
  {
   "cell_type": "code",
   "execution_count": 16,
   "metadata": {
    "collapsed": false
   },
   "outputs": [],
   "source": [
    "#запись в файл списка строк с помощью функции writelines\n",
    "f_result = open('submission-2.txt', 'w')\n",
    "f_result.writelines(i_answer + ' ' for i_answer in map(str, a_vector))\n",
    "f_result.close()"
   ]
  },
  {
   "cell_type": "code",
   "execution_count": 17,
   "metadata": {
    "collapsed": false
   },
   "outputs": [
    {
     "name": "stdout",
     "output_type": "stream",
     "text": [
      "4.36264153512 -1.29552586569 0.193336847022 -0.00823565117332 \n"
     ]
    }
   ],
   "source": [
    "f_result = open('submission-2.txt', 'r')\n",
    "print f_result.read()"
   ]
  }
 ],
 "metadata": {
  "anaconda-cloud": {},
  "kernelspec": {
   "display_name": "Python [Root]",
   "language": "python",
   "name": "Python [Root]"
  },
  "language_info": {
   "codemirror_mode": {
    "name": "ipython",
    "version": 2
   },
   "file_extension": ".py",
   "mimetype": "text/x-python",
   "name": "python",
   "nbconvert_exporter": "python",
   "pygments_lexer": "ipython2",
   "version": "2.7.12"
  }
 },
 "nbformat": 4,
 "nbformat_minor": 0
}
